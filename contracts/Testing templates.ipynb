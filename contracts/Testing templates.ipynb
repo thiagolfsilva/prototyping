{
 "cells": [
  {
   "cell_type": "code",
   "execution_count": 1,
   "id": "db2c848f",
   "metadata": {},
   "outputs": [
    {
     "name": "stdout",
     "output_type": "stream",
     "text": [
      "Collecting chevron\n",
      "  Downloading chevron-0.14.0-py3-none-any.whl (11 kB)\n",
      "Installing collected packages: chevron\n",
      "Successfully installed chevron-0.14.0\n",
      "Note: you may need to restart the kernel to use updated packages.\n"
     ]
    }
   ],
   "source": [
    "#pip install chevron\n",
    "import chevron"
   ]
  },
  {
   "cell_type": "code",
   "execution_count": 26,
   "id": "a26e1e84",
   "metadata": {},
   "outputs": [
    {
     "name": "stdout",
     "output_type": "stream",
     "text": [
      "// SPDX-License-Identifier: GPL-3.0\n",
      "pragma solidity ^0.8.2;\n",
      "\n",
      "interface IERC20 {\n",
      "  function totalSupply() external view returns (uint256);\n",
      "  function balanceOf(address who) external view returns (uint256);\n",
      "  function allowance(address owner, address spender)\n",
      "    external view returns (uint256);\n",
      "  function transfer(address to, uint256 value) external returns (bool);\n",
      "  function approve(address spender, uint256 value)\n",
      "    external returns (bool);\n",
      "  function transferFrom(address from, address to, uint256 value)\n",
      "    external returns (bool);\n",
      "  event Transfer(\n",
      "    address indexed from,\n",
      "    address indexed to,\n",
      "    uint256 value\n",
      "  );\n",
      "  event Approval(\n",
      "    address indexed owner,\n",
      "    address indexed spender,\n",
      "    uint256 value\n",
      "  );\n",
      "}\n",
      "\n",
      "contract Relay {\n",
      "    address public sender = 0xaf02a5c42F30816B0Ae6663f5623ceca1C6C3e31;\n",
      "    address public recipient = 0x3A84DbB7b745Eb84F931536d8DBEd6aFEc354Ee0;\n",
      "    address public token_address = 0xcfd53099E741bfE9ED4e757bbA9B93c5cb3e37e2;\n",
      "    bool public available = false;\n",
      "    uint public amount = 2 * 10 ** 18 * 10 ** 18;\n",
      "\n",
      "    function send_tokens() public {\n",
      "        require(msg.sender == sender);\n",
      "        IERC20 token = IERC20(token_address);\n",
      "        token.transferFrom(sender, address(this), amount);\n",
      "        available = true;\n",
      "    }\n",
      "\n",
      "    function get_tokens() public {\n",
      "        require(msg.sender == recipient);\n",
      "        IERC20 token = IERC20(token_address);\n",
      "        token.transfer(recipient, amount);\n",
      "        available=false;\n",
      "    }\n",
      "}\n"
     ]
    }
   ],
   "source": [
    "#Relay Contract\n",
    "data={\n",
    "    'sender': '0xaf02a5c42F30816B0Ae6663f5623ceca1C6C3e31',\n",
    "    'recipient': '0x3A84DbB7b745Eb84F931536d8DBEd6aFEc354Ee0',\n",
    "    'token_address': '0xcfd53099E741bfE9ED4e757bbA9B93c5cb3e37e2',\n",
    "    'amount': '2 * 10 ** 18'\n",
    "    \n",
    "}\n",
    "\n",
    "f=open('contracts/relay/relay.mustache', 'r')\n",
    "content=f.read()\n",
    "f.close()\n",
    "print(chevron.render(content,data))"
   ]
  }
 ],
 "metadata": {
  "kernelspec": {
   "display_name": "Python 3.8.8 ('base')",
   "language": "python",
   "name": "python3"
  },
  "language_info": {
   "codemirror_mode": {
    "name": "ipython",
    "version": 3
   },
   "file_extension": ".py",
   "mimetype": "text/x-python",
   "name": "python",
   "nbconvert_exporter": "python",
   "pygments_lexer": "ipython3",
   "version": "3.8.8"
  },
  "vscode": {
   "interpreter": {
    "hash": "83e92b1f3f21fdb4659571439a9645cff8fd2717e8d35e987f7eae31f7f6dd34"
   }
  }
 },
 "nbformat": 4,
 "nbformat_minor": 5
}
